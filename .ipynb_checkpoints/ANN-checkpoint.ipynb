{
 "cells": [
  {
   "cell_type": "code",
   "execution_count": 1,
   "id": "c291edc5-d8a2-46c3-a165-9ecd73b51a60",
   "metadata": {},
   "outputs": [
    {
     "name": "stdout",
     "output_type": "stream",
     "text": [
      "Python 3.10.13\n"
     ]
    }
   ],
   "source": [
    "!python --version"
   ]
  },
  {
   "cell_type": "code",
   "execution_count": null,
   "id": "454384b5-37b9-409d-95c6-a86c042c233a",
   "metadata": {},
   "outputs": [],
   "source": [
    "import pandas as pd\n",
    "import numpy as np\n",
    "import tensorflow as tf\n",
    "import keras as ks\n",
    "import struct\n",
    "from array import array\n",
    "from os.path  import join\n",
    "%matplotlib inline\n",
    "import random\n",
    "import matplotlib.pyplot as plt\n",
    "import os\n",
    "from keras.layers import Dense, Flatten, Dropout\n",
    "from keras.models import Sequential\n",
    "from sklearn.model_selection import train_test_split\n",
    "from sklearn.metrics import confusion_matrix,accuracy_score,f1_score, classification_report\n",
    "from sklearn.metrics import precision_recall_curve, auc, average_precision_score, roc_curve\n",
    "import seaborn as sns\n",
    "from sklearn.preprocessing import label_binarize\n",
    "from itertools import cycle"
   ]
  },
  {
   "cell_type": "code",
   "execution_count": null,
   "id": "ca766fc5-ee4f-463c-a61b-b30dc1b15c6d",
   "metadata": {},
   "outputs": [],
   "source": [
    "tf.__version__"
   ]
  },
  {
   "cell_type": "code",
   "execution_count": null,
   "id": "357b5793-331b-4485-bcbf-0774b148cb95",
   "metadata": {},
   "outputs": [],
   "source": [
    "ks.__version__"
   ]
  },
  {
   "cell_type": "code",
   "execution_count": null,
   "id": "4a203e1c-5726-4de8-98e8-3d7624bddf28",
   "metadata": {},
   "outputs": [],
   "source": [
    "# MNIST Data Loader Class\n",
    "\n",
    "class MnistDataloader:\n",
    "    def __init__(self, training_images_filepath,training_labels_filepath,\n",
    "                 test_images_filepath, test_labels_filepath):\n",
    "        self.training_images_filepath = training_images_filepath\n",
    "        self.training_labels_filepath = training_labels_filepath\n",
    "        self.test_images_filepath = test_images_filepath\n",
    "        self.test_labels_filepath = test_labels_filepath\n",
    "    \n",
    "    def read_images_labels(self, images_filepath, labels_filepath):        \n",
    "        labels = []\n",
    "        with open(labels_filepath, 'rb') as file:\n",
    "            magic, size = struct.unpack(\">II\", file.read(8))\n",
    "            if magic != 2049:\n",
    "                raise ValueError('Magic number mismatch, expected 2049, got {}'.format(magic))\n",
    "            labels = array(\"B\", file.read())        \n",
    "        \n",
    "        with open(images_filepath, 'rb') as file:\n",
    "            magic, size, rows, cols = struct.unpack(\">IIII\", file.read(16))\n",
    "            if magic != 2051:\n",
    "                raise ValueError('Magic number mismatch, expected 2051, got {}'.format(magic))\n",
    "            image_data = array(\"B\", file.read())        \n",
    "        images = []\n",
    "        for i in range(size):\n",
    "            images.append([0] * rows * cols)\n",
    "        for i in range(size):\n",
    "            img = np.array(image_data[i * rows * cols:(i + 1) * rows * cols])\n",
    "            img = img.reshape(28, 28)\n",
    "            images[i][:] = img            \n",
    "        \n",
    "        return images, labels\n",
    "            \n",
    "    def load_data(self):\n",
    "        x_train, y_train = self.read_images_labels(self.training_images_filepath, self.training_labels_filepath)\n",
    "        x_test, y_test = self.read_images_labels(self.test_images_filepath, self.test_labels_filepath)\n",
    "        return (x_train, y_train),(x_test, y_test)  "
   ]
  },
  {
   "cell_type": "code",
   "execution_count": null,
   "id": "53f764f6-9311-45be-a657-7bce57d8b247",
   "metadata": {},
   "outputs": [],
   "source": [
    "def plot_random_samples(n_samples: int=9, width: int=10, height: int=10)->None:\n",
    "    n_samples=1 if n_samples<1 else n_samples\n",
    "    remainder=n_samples%3\n",
    "    n_rows=np.ceil(n_samples/3).astype(int) if n_samples > 3 else 1\n",
    "    n_cols=3 if n_samples >= 3 else n_samples\n",
    "    print(f'No of columns: {n_cols} | No. of rows: {n_rows} | No. of samples: {n_samples}'.center(os.get_terminal_size().columns))\n",
    "\n",
    "    fig = plt.figure(figsize=(width, height))\n",
    "    # ax enables access to manipulate each of subplots\n",
    "    ax = []\n",
    "\n",
    "    for i in range(n_samples):\n",
    "        img_no = np.random.randint(0, len(X))\n",
    "        img_label = Y[img_no]\n",
    "        img_label = 0 if int(img_label) == 10 else img_label\n",
    "        img = X[img_no]\n",
    "        # create subplot and append to ax\n",
    "        ax.append(fig.add_subplot(n_rows, n_cols, i+1))\n",
    "        # set title\n",
    "        ax[-1].set_title(img_label)\n",
    "        ax[-1].axis('off')\n",
    "        fig.tight_layout()\n",
    "        plt.imshow(img, cmap='gray')\n",
    "    plt.show();"
   ]
  },
  {
   "cell_type": "code",
   "execution_count": null,
   "id": "2c232fb7-ffd9-4256-bb22-73ee43d5c951",
   "metadata": {},
   "outputs": [],
   "source": [
    "def plot_random_predictions(model, n_samples: int=9, width: int=10, height: int=10)->None:\n",
    "    n_samples=1 if n_samples<1 else n_samples\n",
    "    remainder=n_samples%3\n",
    "    n_rows=np.ceil(n_samples/3).astype(int) if n_samples > 3 else 1\n",
    "    n_cols=3 if n_samples >= 3 else n_samples\n",
    "    print(f'No of columns: {n_cols} | No. of rows: {n_rows} | No. of samples: {n_samples}'.center(os.get_terminal_size().columns))\n",
    "\n",
    "    fig = plt.figure(figsize=(width, height))\n",
    "    # ax enables access to manipulate each of subplots\n",
    "    ax = []\n",
    "\n",
    "    for i in range(n_samples):\n",
    "        img_no = np.random.randint(0, len(X))\n",
    "        img_label = Y[img_no]\n",
    "        img = X[img_no]\n",
    "        prediction = model.predict(img.reshape(1, -1), verbose=0)\n",
    "        predicted_label = np.argmax(prediction > 0.5)\n",
    "        prediction_percentage = np.round(prediction[0][predicted_label]*100, 2)\n",
    "        # create subplot and append to ax\n",
    "        ax.append(fig.add_subplot(n_rows, n_cols, i+1))\n",
    "        # set title\n",
    "        ax[-1].set_title(f'Predicted: {predicted_label} | {prediction_percentage}%\\nTrue: {img_label}', fontsize=9, color=\"green\" if img_label==predicted_label else \"red\")\n",
    "        ax[-1].axis('off')\n",
    "        fig.tight_layout()\n",
    "        plt.imshow(img, cmap='gray')\n",
    "    plt.show();"
   ]
  },
  {
   "cell_type": "code",
   "execution_count": null,
   "id": "ed64a141-ca88-4a2e-b591-c836993266d1",
   "metadata": {},
   "outputs": [],
   "source": [
    "def plot_auc_scores(clf, X_test, y_test, Y):\n",
    "    y_test_bin = label_binarize(y_test, classes=np.unique(Y).tolist())\n",
    "    n_classes = y_test_bin.shape[1]\n",
    "    y_score = clf.predict(X_test)\n",
    "    \n",
    "    \n",
    "    fpr = dict()\n",
    "    tpr = dict()\n",
    "    roc_auc = dict()\n",
    "    for i in range(n_classes):\n",
    "        fpr[i], tpr[i], _ = roc_curve(y_test_bin[:, i], y_score[:, i])\n",
    "        roc_auc[i] = auc(fpr[i], tpr[i])\n",
    "    colors = cycle(['blue', 'red', 'green'])\n",
    "    for i, color in zip(range(n_classes), colors):\n",
    "        plt.plot(fpr[i], tpr[i], color=color,\n",
    "                 label='ROC curve of class {0} (area = {1:0.2f})'\n",
    "                 ''.format(i, roc_auc[i]))\n",
    "    \n",
    "    \n",
    "    plt.plot([0, 1], [0, 1], 'k--')\n",
    "    plt.xlim([-0.05, 1.0])\n",
    "    plt.ylim([0.0, 1.05])\n",
    "    plt.xlabel('False Positive Rate')\n",
    "    plt.ylabel('True Positive Rate')\n",
    "    plt.title('Receiver operating characteristic for multi-class data')\n",
    "    plt.legend(loc=\"lower right\")\n",
    "    plt.show()"
   ]
  },
  {
   "cell_type": "code",
   "execution_count": null,
   "id": "b551e464-24bf-4088-8bc4-5904ebe5a6ce",
   "metadata": {},
   "outputs": [],
   "source": [
    "def normalize_images(X):\n",
    "    return X/255"
   ]
  },
  {
   "cell_type": "code",
   "execution_count": null,
   "id": "20d9ba9b-c682-4480-8aa9-e3df5453bd92",
   "metadata": {},
   "outputs": [],
   "source": [
    "def plot_ROC_curve(model, xtrain, ytrain, xtest, ytest, y):\n",
    "    encoder = np.unique(y)\n",
    "    \n",
    "    visualizer = ROCAUC(model, encoder=encoder, size=(1080, 720))\n",
    "                                        \n",
    "    # Fitting to the training data first then scoring with the test data                                    \n",
    "    visualizer.fit(xtrain, ytrain)\n",
    "    visualizer.score(xtest, ytest)\n",
    "    visualizer.show()\n",
    "    \n",
    "    return visualizer"
   ]
  },
  {
   "cell_type": "code",
   "execution_count": null,
   "id": "4992fc45-b8b9-4858-85cb-70f0e614c874",
   "metadata": {},
   "outputs": [],
   "source": [
    "input_path = './'\n",
    "training_images_filepath = join(input_path, './train-images-idx3-ubyte/train-images-idx3-ubyte')\n",
    "training_labels_filepath = join(input_path, './train-labels-idx1-ubyte/train-labels-idx1-ubyte')\n",
    "test_images_filepath = join(input_path, './t10k-images-idx3-ubyte/t10k-images-idx3-ubyte')\n",
    "test_labels_filepath = join(input_path, './t10k-labels-idx1-ubyte/t10k-labels-idx1-ubyte')"
   ]
  },
  {
   "cell_type": "code",
   "execution_count": null,
   "id": "48f66a5d-40a3-4bfb-a4dc-b021feb78072",
   "metadata": {},
   "outputs": [],
   "source": [
    "mnist_dataloader = MnistDataloader(training_images_filepath, training_labels_filepath, test_images_filepath, test_labels_filepath)\n",
    "(x_train, y_train), (x_test, y_test) = mnist_dataloader.load_data()"
   ]
  },
  {
   "cell_type": "code",
   "execution_count": null,
   "id": "35e6d7e4-e6e5-4301-b81a-e97a1400e3e3",
   "metadata": {},
   "outputs": [],
   "source": [
    "X = np.concatenate((np.array(x_train),np.array(x_test)))\n",
    "Y = np.concatenate((np.array(y_train),np.array(y_test)))\n",
    "X = normalize_images(X)"
   ]
  },
  {
   "cell_type": "code",
   "execution_count": null,
   "id": "e39e3f2c-2e14-4022-99b5-362c64abda0e",
   "metadata": {},
   "outputs": [],
   "source": [
    "plot_random_samples(n_samples=9, width=6, height=6)"
   ]
  },
  {
   "cell_type": "code",
   "execution_count": null,
   "id": "4c9b3ba3-2597-4dee-87e6-9b01e49b68f4",
   "metadata": {},
   "outputs": [],
   "source": [
    "IMG_SIZE = np.array(X[0]).shape\n",
    "print('Image size: ', IMG_SIZE)"
   ]
  },
  {
   "cell_type": "code",
   "execution_count": null,
   "id": "0a345a52-a44b-4b00-a7f4-f6d93a5748b1",
   "metadata": {},
   "outputs": [],
   "source": [
    "X_train, X_test, y_train, y_test = train_test_split(X, Y, test_size = 0.2, random_state = 0, shuffle=True)"
   ]
  },
  {
   "cell_type": "code",
   "execution_count": null,
   "id": "c4069cd9-63b7-4fd8-9344-324a160dcc48",
   "metadata": {},
   "outputs": [],
   "source": [
    "# Initialising the ANN\n",
    "NO_NEURONS = 128\n",
    "\n",
    "clf = Sequential()\n",
    "\n",
    "clf.add(Flatten(input_shape=IMG_SIZE))\n",
    "clf.add(Dense(units = NO_NEURONS))\n",
    "clf.add(Dropout(0.2))\n",
    "clf.add(Dense(units = NO_NEURONS))\n",
    "clf.add(Dropout(0.2))\n",
    "clf.add(Dense(units = len(np.unique(Y)), activation='softmax'))\n",
    "\n",
    "clf.summary()"
   ]
  },
  {
   "cell_type": "code",
   "execution_count": null,
   "id": "60383698-f2da-4055-8675-dca6f5cd087a",
   "metadata": {},
   "outputs": [],
   "source": [
    "ks.utils.plot_model(\n",
    "    clf,\n",
    "    to_file=\"model.png\",\n",
    "    show_shapes=True,\n",
    "    show_dtype=True,\n",
    "    show_layer_names=True,\n",
    "    rankdir=\"TB\",\n",
    "    expand_nested=False,\n",
    "    dpi=100,\n",
    "    show_layer_activations=True,\n",
    "    show_trainable=True,\n",
    ")"
   ]
  },
  {
   "cell_type": "code",
   "execution_count": null,
   "id": "58ce893c-7d39-412d-a58e-833b875063bd",
   "metadata": {},
   "outputs": [],
   "source": [
    "clf.compile(optimizer = ks.optimizers.Adam(learning_rate=0.0001), loss = 'sparse_categorical_crossentropy', metrics='accuracy')"
   ]
  },
  {
   "cell_type": "code",
   "execution_count": null,
   "id": "4b617dc7-d430-476e-9cda-34a47b59cdf8",
   "metadata": {},
   "outputs": [],
   "source": [
    "history = clf.fit(X_train, y_train, epochs = 50, batch_size = 1, validation_data=(X_test, y_test))"
   ]
  },
  {
   "cell_type": "code",
   "execution_count": null,
   "id": "0e18c159-45b8-4838-a65f-9a585e8bc172",
   "metadata": {},
   "outputs": [],
   "source": [
    "y_pred = clf.predict(X_test)\n",
    "y_pred = np.argmax((y_pred > 0.5), axis=1)\n",
    "\n",
    "\n",
    "print('Accuracy: ', accuracy_score(y_test, y_pred)*100)\n",
    "\n",
    "cm = confusion_matrix(y_test, y_pred)\n",
    "print(cm)\n",
    "\n",
    "plt.figure(figsize=(5, 5))\n",
    "sns.heatmap(cm, annot=True, fmt='d', cmap='crest', cbar=False)\n",
    "plt.title('Confusion Matrix')\n",
    "plt.xlabel('Predicted Labels')\n",
    "plt.ylabel('True Labels')\n",
    "plt.show();\n",
    "\n",
    "\n",
    "print(classification_report(y_test, y_pred))"
   ]
  },
  {
   "cell_type": "code",
   "execution_count": null,
   "id": "77981116-4983-41e1-8c13-8bf9ee6a3949",
   "metadata": {},
   "outputs": [],
   "source": [
    "plot_auc_scores(clf, X_test, y_test, Y)"
   ]
  },
  {
   "cell_type": "code",
   "execution_count": null,
   "id": "20502457-7c6d-4378-9972-60f9b3d969bc",
   "metadata": {},
   "outputs": [],
   "source": [
    "plt.figure(figsize=(15,10))\n",
    "plt.plot(history.history[list(history.history.keys())[0]],label='Training Loss')\n",
    "plt.plot(history.history[list(history.history.keys())[2]],label='Validation Loss')\n",
    "plt.title(f'Training vs. Validation Loss (Binary Crossentropy))')\n",
    "plt.xlabel('epochs')\n",
    "plt.ylabel('loss')\n",
    "plt.legend()\n",
    "plt.show()"
   ]
  },
  {
   "cell_type": "code",
   "execution_count": null,
   "id": "797f1544-480f-4196-bbc3-c69a8a3ad5b0",
   "metadata": {},
   "outputs": [],
   "source": [
    "print(f'Max Train {list(history.history.keys())[1]}: ', max(history.history[list(history.history.keys())[1]]), f' | Max Val {list(history.history.keys())[1]}: ', max(history.history[list(history.history.keys())[-1]]))\n",
    "\n",
    "plt.figure(figsize=(15,10))\n",
    "plt.plot(history.history[list(history.history.keys())[1]],label=f'{list(history.history.keys())[1]}')\n",
    "plt.plot(history.history[list(history.history.keys())[-1]],label=f'{list(history.history.keys())[-1]}')\n",
    "plt.title(f'Training vs. Validation {list(history.history.keys())[1]}')\n",
    "plt.xlabel('epochs')\n",
    "plt.ylabel(f'{list(history.history.keys())[1]}')\n",
    "# plt.ylim(0, 1)\n",
    "plt.legend()\n",
    "plt.show()"
   ]
  },
  {
   "cell_type": "code",
   "execution_count": null,
   "id": "50afd885-6255-4bf3-bd93-09547ad11334",
   "metadata": {},
   "outputs": [],
   "source": [
    "plot_random_predictions(model=clf, n_samples=15, width=8, height=8)"
   ]
  },
  {
   "cell_type": "code",
   "execution_count": null,
   "id": "ac6cdcf5-e738-4242-9bb1-395bf7b29320",
   "metadata": {},
   "outputs": [],
   "source": []
  }
 ],
 "metadata": {
  "kernelspec": {
   "display_name": "Python 3 (ipykernel)",
   "language": "python",
   "name": "python3"
  },
  "language_info": {
   "codemirror_mode": {
    "name": "ipython",
    "version": 3
   },
   "file_extension": ".py",
   "mimetype": "text/x-python",
   "name": "python",
   "nbconvert_exporter": "python",
   "pygments_lexer": "ipython3",
   "version": "3.10.13"
  }
 },
 "nbformat": 4,
 "nbformat_minor": 5
}
